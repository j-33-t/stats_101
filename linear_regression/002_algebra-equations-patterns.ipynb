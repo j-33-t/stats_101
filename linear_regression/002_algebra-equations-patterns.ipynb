{
 "cells": [
  {
   "cell_type": "markdown",
   "metadata": {},
   "source": [
    "## Bivariate Statistics\n",
    "Bivariate means two variables\n"
   ]
  },
  {
   "cell_type": "code",
   "execution_count": 113,
   "metadata": {},
   "outputs": [],
   "source": [
    "import pandas as pd\n",
    "df = pd.DataFrame({\"Bill\" : [34,108,64,88,99,51],\"Tip_Amount\" :[5,17,11,8,14,5]})"
   ]
  },
  {
   "cell_type": "code",
   "execution_count": 114,
   "metadata": {},
   "outputs": [
    {
     "data": {
      "text/html": [
       "<div>\n",
       "<style scoped>\n",
       "    .dataframe tbody tr th:only-of-type {\n",
       "        vertical-align: middle;\n",
       "    }\n",
       "\n",
       "    .dataframe tbody tr th {\n",
       "        vertical-align: top;\n",
       "    }\n",
       "\n",
       "    .dataframe thead th {\n",
       "        text-align: right;\n",
       "    }\n",
       "</style>\n",
       "<table border=\"1\" class=\"dataframe\">\n",
       "  <thead>\n",
       "    <tr style=\"text-align: right;\">\n",
       "      <th></th>\n",
       "      <th>Bill</th>\n",
       "      <th>Tip_Amount</th>\n",
       "    </tr>\n",
       "  </thead>\n",
       "  <tbody>\n",
       "    <tr>\n",
       "      <th>0</th>\n",
       "      <td>34</td>\n",
       "      <td>5</td>\n",
       "    </tr>\n",
       "    <tr>\n",
       "      <th>1</th>\n",
       "      <td>108</td>\n",
       "      <td>17</td>\n",
       "    </tr>\n",
       "    <tr>\n",
       "      <th>2</th>\n",
       "      <td>64</td>\n",
       "      <td>11</td>\n",
       "    </tr>\n",
       "    <tr>\n",
       "      <th>3</th>\n",
       "      <td>88</td>\n",
       "      <td>8</td>\n",
       "    </tr>\n",
       "    <tr>\n",
       "      <th>4</th>\n",
       "      <td>99</td>\n",
       "      <td>14</td>\n",
       "    </tr>\n",
       "    <tr>\n",
       "      <th>5</th>\n",
       "      <td>51</td>\n",
       "      <td>5</td>\n",
       "    </tr>\n",
       "  </tbody>\n",
       "</table>\n",
       "</div>"
      ],
      "text/plain": [
       "   Bill  Tip_Amount\n",
       "0    34           5\n",
       "1   108          17\n",
       "2    64          11\n",
       "3    88           8\n",
       "4    99          14\n",
       "5    51           5"
      ]
     },
     "execution_count": 114,
     "metadata": {},
     "output_type": "execute_result"
    }
   ],
   "source": [
    "df"
   ]
  },
  {
   "cell_type": "markdown",
   "metadata": {},
   "source": [
    "## Linear Regression"
   ]
  },
  {
   "cell_type": "code",
   "execution_count": 115,
   "metadata": {},
   "outputs": [],
   "source": [
    "import numpy as np\n",
    "from sklearn.linear_model import LinearRegression\n"
   ]
  },
  {
   "cell_type": "code",
   "execution_count": 116,
   "metadata": {},
   "outputs": [
    {
     "name": "stdout",
     "output_type": "stream",
     "text": [
      "(6, 1)\n",
      "(6,)\n"
     ]
    }
   ],
   "source": [
    "x = df[[\"Bill\"]]\n",
    "y = df[\"Tip_Amount\"]\n",
    "\n",
    "print(x.shape) # x should be 2 dimensional\n",
    "print(y.shape) # y should be an one dimensonal array\n"
   ]
  },
  {
   "cell_type": "code",
   "execution_count": 170,
   "metadata": {},
   "outputs": [
    {
     "name": "stdout",
     "output_type": "stream",
     "text": [
      "centroid :(74.0, 10.0)\n"
     ]
    }
   ],
   "source": [
    "# Regression line has to go through centroid\n",
    "\n",
    "x_mean = x.mean().to_list()\n",
    "x_mean = x_mean[0]\n",
    "\n",
    "y_mean = y.mean()\n",
    "\n",
    "\n",
    "print(f\"centroid :{x_mean,y_mean}\")\n",
    "\n",
    "\n",
    "\n",
    "centroid = [x_mean,y_mean]"
   ]
  },
  {
   "cell_type": "code",
   "execution_count": 117,
   "metadata": {},
   "outputs": [],
   "source": [
    "model = LinearRegression().fit(x,y)"
   ]
  },
  {
   "cell_type": "code",
   "execution_count": 171,
   "metadata": {},
   "outputs": [
    {
     "name": "stdout",
     "output_type": "stream",
     "text": [
      "slope: [0.14621969]\n",
      "intercept: -0.8202567760342401\n"
     ]
    }
   ],
   "source": [
    "print(f\"slope: {model.coef_}\")\n",
    "print(f\"intercept: {model.intercept_}\")\n"
   ]
  },
  {
   "cell_type": "code",
   "execution_count": 122,
   "metadata": {},
   "outputs": [
    {
     "name": "stdout",
     "output_type": "stream",
     "text": [
      "correlation coefficient [𝑅]: 0.865664999629448\n",
      "coefficient of determination [𝑅²]: 0.7493758915834522\n"
     ]
    }
   ],
   "source": [
    "# correlation coefficient , 𝑅\n",
    "import math\n",
    "r = math.sqrt(model.score(x,y))\n",
    "\n",
    "print(f\"correlation coefficient [𝑅]: {r}\")\n",
    "\n",
    "# coefficient of determination, 𝑅²\n",
    "r_sq = model.score(x, y)\n",
    "\n",
    "print(f\"coefficient of determination [𝑅²]: {r_sq}\")"
   ]
  },
  {
   "cell_type": "markdown",
   "metadata": {},
   "source": [
    "in this case relationship is strong , it displays a strong linear relationship  = [𝑅]: 0.865664999629448"
   ]
  },
  {
   "cell_type": "code",
   "execution_count": 169,
   "metadata": {},
   "outputs": [
    {
     "data": {
      "image/png": "[encoded data removed]",
      "text/plain": [
       "<Figure size 432x288 with 1 Axes>"
      ]
     },
     "metadata": {
      "needs_background": "light"
     },
     "output_type": "display_data"
    }
   ],
   "source": [
    "import matplotlib.pyplot as plt\n",
    "\n",
    "plt.scatter(x, y,color='red')\n",
    "plt.plot(x, model.predict(x),color='grey',linestyle = \":\")\n",
    "plt.scatter(centroid[0],centroid[1],color = \"yellow\", edgecolors=\"red\", marker = \"s\")\n",
    "plt.text(76,9.7, \"centroid\")\n",
    "plt.xlabel(\"Bill ($)\")\n",
    "plt.ylabel(\"Tip Amount ($)\")\n",
    "plt.show() "
   ]
  }
 ],
 "metadata": {
  "interpreter": {
   "hash": "a1fb47844a43067c3c791d983d96d20a964eea004028ecb94da250cdad83be0a"
  },
  "kernelspec": {
   "display_name": "Python 3.8.5 ('base')",
   "language": "python",
   "name": "python3"
  },
  "language_info": {
   "codemirror_mode": {
    "name": "ipython",
    "version": 3
   },
   "file_extension": ".py",
   "mimetype": "text/x-python",
   "name": "python",
   "nbconvert_exporter": "python",
   "pygments_lexer": "ipython3",
   "version": "3.8.5"
  },
  "orig_nbformat": 4
 },
 "nbformat": 4,
 "nbformat_minor": 2
}
